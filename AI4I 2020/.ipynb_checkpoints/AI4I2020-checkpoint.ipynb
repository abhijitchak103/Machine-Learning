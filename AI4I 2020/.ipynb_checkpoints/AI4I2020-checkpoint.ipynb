{
 "cells": [
  {
   "cell_type": "markdown",
   "id": "bbedba7e",
   "metadata": {},
   "source": [
    "# Machine Learning Prediction on AI4I 2020 Dataset"
   ]
  },
  {
   "cell_type": "markdown",
   "id": "d6f554ce",
   "metadata": {},
   "source": [
    "### Tasks:\n",
    "\n",
    "> 1. Load the Dataset\n",
    "> 2. Profile the Dataset\n",
    "> 3. Analyse the data profile\n",
    "> 4. Impute any NaN datapoints\n",
    "> 5. Handle the dataset if it is not normal\n",
    "> 6. Check for Multicollinearity\n",
    "> 7. Build the model\n",
    "> 8. Check the accuracy\n",
    "> 9. Save the model\n",
    "> 10. Predict on 10 new datapoints"
   ]
  },
  {
   "cell_type": "markdown",
   "id": "1bd09e1f",
   "metadata": {},
   "source": [
    "#### Importing necessary modules"
   ]
  },
  {
   "cell_type": "code",
   "execution_count": 1,
   "id": "d82182b8",
   "metadata": {},
   "outputs": [
    {
     "name": "stderr",
     "output_type": "stream",
     "text": [
      "C:\\Users\\Abhijit\\AppData\\Local\\Temp\\ipykernel_1324\\3585555776.py:6: DeprecationWarning: `import pandas_profiling` is going to be deprecated by April 1st. Please use `import ydata_profiling` instead.\n",
      "  from pandas_profiling import ProfileReport\n"
     ]
    }
   ],
   "source": [
    "import pandas as pd\n",
    "import numpy as np\n",
    "import matplotlib.pyplot as plt\n",
    "import seaborn as sns\n",
    "import pickle\n",
    "from pandas_profiling import ProfileReport\n",
    "from sklearn.linear_model import LinearRegression"
   ]
  },
  {
   "cell_type": "markdown",
   "id": "9534aa61",
   "metadata": {},
   "source": [
    "#### Loading the Dataset"
   ]
  },
  {
   "cell_type": "code",
   "execution_count": 2,
   "id": "3a9b5996",
   "metadata": {},
   "outputs": [
    {
     "data": {
      "text/html": [
       "<div>\n",
       "<style scoped>\n",
       "    .dataframe tbody tr th:only-of-type {\n",
       "        vertical-align: middle;\n",
       "    }\n",
       "\n",
       "    .dataframe tbody tr th {\n",
       "        vertical-align: top;\n",
       "    }\n",
       "\n",
       "    .dataframe thead th {\n",
       "        text-align: right;\n",
       "    }\n",
       "</style>\n",
       "<table border=\"1\" class=\"dataframe\">\n",
       "  <thead>\n",
       "    <tr style=\"text-align: right;\">\n",
       "      <th></th>\n",
       "      <th>UDI</th>\n",
       "      <th>Product ID</th>\n",
       "      <th>Type</th>\n",
       "      <th>Air temperature [K]</th>\n",
       "      <th>Process temperature [K]</th>\n",
       "      <th>Rotational speed [rpm]</th>\n",
       "      <th>Torque [Nm]</th>\n",
       "      <th>Tool wear [min]</th>\n",
       "      <th>Machine failure</th>\n",
       "      <th>TWF</th>\n",
       "      <th>HDF</th>\n",
       "      <th>PWF</th>\n",
       "      <th>OSF</th>\n",
       "      <th>RNF</th>\n",
       "    </tr>\n",
       "  </thead>\n",
       "  <tbody>\n",
       "    <tr>\n",
       "      <th>0</th>\n",
       "      <td>1</td>\n",
       "      <td>M14860</td>\n",
       "      <td>M</td>\n",
       "      <td>298.1</td>\n",
       "      <td>308.6</td>\n",
       "      <td>1551</td>\n",
       "      <td>42.8</td>\n",
       "      <td>0</td>\n",
       "      <td>0</td>\n",
       "      <td>0</td>\n",
       "      <td>0</td>\n",
       "      <td>0</td>\n",
       "      <td>0</td>\n",
       "      <td>0</td>\n",
       "    </tr>\n",
       "    <tr>\n",
       "      <th>1</th>\n",
       "      <td>2</td>\n",
       "      <td>L47181</td>\n",
       "      <td>L</td>\n",
       "      <td>298.2</td>\n",
       "      <td>308.7</td>\n",
       "      <td>1408</td>\n",
       "      <td>46.3</td>\n",
       "      <td>3</td>\n",
       "      <td>0</td>\n",
       "      <td>0</td>\n",
       "      <td>0</td>\n",
       "      <td>0</td>\n",
       "      <td>0</td>\n",
       "      <td>0</td>\n",
       "    </tr>\n",
       "    <tr>\n",
       "      <th>2</th>\n",
       "      <td>3</td>\n",
       "      <td>L47182</td>\n",
       "      <td>L</td>\n",
       "      <td>298.1</td>\n",
       "      <td>308.5</td>\n",
       "      <td>1498</td>\n",
       "      <td>49.4</td>\n",
       "      <td>5</td>\n",
       "      <td>0</td>\n",
       "      <td>0</td>\n",
       "      <td>0</td>\n",
       "      <td>0</td>\n",
       "      <td>0</td>\n",
       "      <td>0</td>\n",
       "    </tr>\n",
       "    <tr>\n",
       "      <th>3</th>\n",
       "      <td>4</td>\n",
       "      <td>L47183</td>\n",
       "      <td>L</td>\n",
       "      <td>298.2</td>\n",
       "      <td>308.6</td>\n",
       "      <td>1433</td>\n",
       "      <td>39.5</td>\n",
       "      <td>7</td>\n",
       "      <td>0</td>\n",
       "      <td>0</td>\n",
       "      <td>0</td>\n",
       "      <td>0</td>\n",
       "      <td>0</td>\n",
       "      <td>0</td>\n",
       "    </tr>\n",
       "    <tr>\n",
       "      <th>4</th>\n",
       "      <td>5</td>\n",
       "      <td>L47184</td>\n",
       "      <td>L</td>\n",
       "      <td>298.2</td>\n",
       "      <td>308.7</td>\n",
       "      <td>1408</td>\n",
       "      <td>40.0</td>\n",
       "      <td>9</td>\n",
       "      <td>0</td>\n",
       "      <td>0</td>\n",
       "      <td>0</td>\n",
       "      <td>0</td>\n",
       "      <td>0</td>\n",
       "      <td>0</td>\n",
       "    </tr>\n",
       "  </tbody>\n",
       "</table>\n",
       "</div>"
      ],
      "text/plain": [
       "   UDI Product ID Type  Air temperature [K]  Process temperature [K]  \\\n",
       "0    1     M14860    M                298.1                    308.6   \n",
       "1    2     L47181    L                298.2                    308.7   \n",
       "2    3     L47182    L                298.1                    308.5   \n",
       "3    4     L47183    L                298.2                    308.6   \n",
       "4    5     L47184    L                298.2                    308.7   \n",
       "\n",
       "   Rotational speed [rpm]  Torque [Nm]  Tool wear [min]  Machine failure  TWF  \\\n",
       "0                    1551         42.8                0                0    0   \n",
       "1                    1408         46.3                3                0    0   \n",
       "2                    1498         49.4                5                0    0   \n",
       "3                    1433         39.5                7                0    0   \n",
       "4                    1408         40.0                9                0    0   \n",
       "\n",
       "   HDF  PWF  OSF  RNF  \n",
       "0    0    0    0    0  \n",
       "1    0    0    0    0  \n",
       "2    0    0    0    0  \n",
       "3    0    0    0    0  \n",
       "4    0    0    0    0  "
      ]
     },
     "execution_count": 2,
     "metadata": {},
     "output_type": "execute_result"
    }
   ],
   "source": [
    "df = pd.read_csv('ai4i2020.csv')\n",
    "df.head()"
   ]
  },
  {
   "cell_type": "markdown",
   "id": "0926a80f",
   "metadata": {},
   "source": [
    "## Dataset Description\n",
    "\n",
    "The dataset consists of 10,000 data points stored as rows with 14 features in columns:\n",
    "\n",
    " - **`UID`**: unique identifier ranging from 1 to 10000\n",
    " - **`product ID`**: consisting of a letter L, M, or H for low (50% of all products), medium (30%) and high (20%) as product quality variants and a variant-specific serial number\n",
    " - **`air temperature` [$K$]**: generated using a random walk process later normalized to a standard deviation of 2$K$ around 300$K$\n",
    " - **`process temperature` [$K$]**: generated using a random walk process normalized to a standard deviation of 1$K$, added to the air temperature plus 10$K$.\n",
    " - **`rotational speed` [$rpm$]**: calculated from a power of 2860$W$, overlaid with a normally distributed noise\n",
    " - **`torque` [$Nm$]**: torque values are normally distributed around 40$Nm$ with a Ïƒ = 10 Nm and no negative values.\n",
    " - **`tool wear` [$min$]**: The quality variants H/M/L add 5/3/2 minutes of tool wear to the used tool in the process. and a\n",
    " - **`machine failure`** label that indicates, whether the machine has failed in this particular datapoint for any of the following failure modes are true.\n",
    "\n",
    "The machine failure consists of five independent failure modes:\n",
    "\n",
    " - **`tool wear failure` ($TWF$)**: the tool will be replaced of fail at a randomly selected tool wear time between 200 & 240 mins (120 times in our dataset). At this point in time, the tool is replaced 69 times, and fails 51 times (randomly assigned).\n",
    " - **`heat dissipation failure` ($HDF$)**: heat dissipation causes a process failure, if the difference between air and process temperature is below 8.6$K$ and the tool's rotational speed is below 1380 $rpm$. This is the case for 115 data points.\n",
    " - **`power failure` ($PWF$)**: the product of torque and rotational speed (in rad/s) equals the power required for the process. If this power is below 3500 $W$ or above 9000 $W$, the process fails, which is the case 95 times in our dataset.\n",
    " - **`overstrain failure` ($OSF$)**: if the product of tool wear and torque exceeds 11,000 minNm for the L product variant (12,000 $M$, 13,000 $H$), the process fails due to overstrain. This is true for 98 datapoints.\n",
    " - **`random failures` ($RNF$)**: each process has a chance of 0,1 % to fail regardless of its process parameters. This is the case for only 5 datapoints, less than could be expected for 10,000 datapoints in our dataset.\n",
    "\n",
    "If at least one of the above failure modes is true, the process fails and the 'machine failure' label is set to 1. It is therefore not transparent to the machine learning method, which of the failure modes has caused the process to fail"
   ]
  },
  {
   "cell_type": "code",
   "execution_count": 3,
   "id": "71b0b686",
   "metadata": {},
   "outputs": [
    {
     "name": "stdout",
     "output_type": "stream",
     "text": [
      "The number of data points where machine fails due to `tool wear failure` 46\n",
      "The number of data points where machine fails due to `heat dissipation failure` 115\n",
      "The number of data points where machine fails due to `power failure` 95\n",
      "The number of data points where machine fails due to `overstrain failure` 98\n",
      "The number of data points where machine fails due to `random failure` 19\n"
     ]
    }
   ],
   "source": [
    "# A quick check to see if the datapoints adhere to the description\n",
    "\n",
    "print(f\"The number of data points where machine fails due to `tool wear failure` {len(df[df['TWF']==1])}\")\n",
    "print(f\"The number of data points where machine fails due to `heat dissipation failure` {len(df[df['HDF']==1])}\")\n",
    "print(f\"The number of data points where machine fails due to `power failure` {len(df[df['PWF']==1])}\")\n",
    "print(f\"The number of data points where machine fails due to `overstrain failure` {len(df[df['OSF']==1])}\")\n",
    "print(f\"The number of data points where machine fails due to `random failure` {len(df[df['RNF']==1])}\")"
   ]
  },
  {
   "cell_type": "markdown",
   "id": "270f2f4c",
   "metadata": {},
   "source": [
    " - The number of datapoints which states that the machine has failed due to `tool wear failure` is less ($46$) than the amount stated in the dataset ($120$).\n",
    " - The number of datapoints which states that the machine has failed due to `heat dissipation failure` is ($115$) which is same as the amount stated in the dataset ($115$).\n",
    " - The number of datapoints which states that the machine has failed due to `power failure` is ($95$) which is same as the amount stated in the dataset ($95$).\n",
    " - The number of datapoints which states that the machine has failed due to `overstrain failure` is ($98$) which is same as the amount stated in the dataset ($98$).\n",
    " - The number of datapoints which states that the machine has failed due to `random failure` is more ($19$) than the amount stated in the dataset ($5$)."
   ]
  },
  {
   "cell_type": "code",
   "execution_count": 4,
   "id": "985df98e",
   "metadata": {},
   "outputs": [
    {
     "data": {
      "text/plain": [
       "1    330\n",
       "0     18\n",
       "Name: Machine failure, dtype: int64"
      ]
     },
     "execution_count": 4,
     "metadata": {},
     "output_type": "execute_result"
    }
   ],
   "source": [
    "df[(df['TWF'] == 1) | (df['HDF'] == 1) | (df['PWF'] == 1) | (df['OSF'] == 1) | (df['RNF'] == 1)]['Machine failure'].value_counts()"
   ]
  },
  {
   "cell_type": "code",
   "execution_count": 5,
   "id": "5a2a11f8",
   "metadata": {
    "scrolled": true
   },
   "outputs": [
    {
     "data": {
      "text/plain": [
       "339"
      ]
     },
     "execution_count": 5,
     "metadata": {},
     "output_type": "execute_result"
    }
   ],
   "source": [
    "len(df[df['Machine failure'] == 1])"
   ]
  },
  {
   "cell_type": "markdown",
   "id": "01b4c5c5",
   "metadata": {},
   "source": [
    "As we can see here, there are data points which have been labelled as failed but the 5 independent categories do not show any failure.\n",
    "\n",
    "We can drop the rows where either one of machine failure categories is 1 but the feature `Machine failure` shows 0.\n",
    "\n",
    "We also have 1 datapoint where none of the individual categories of Machine failure is 1 but `Machine failure` shows 1."
   ]
  },
  {
   "cell_type": "code",
   "execution_count": 8,
   "id": "585330ad",
   "metadata": {},
   "outputs": [],
   "source": [
    "data = df.copy()\n",
    "drop_index = df[((df['TWF'] == 0) & (df['HDF'] == 0) & \n",
    "                 (df['PWF'] == 0) & (df['OSF'] == 0) & \n",
    "                 (df['RNF'] == 0)) & (df['Machine failure'] == 1)].index\n",
    "df.drop(drop_index, inplace = True)\n",
    "drop_0_index = df[((df['TWF'] == 1) | (df['HDF'] == 1) | \n",
    "                 (df['PWF'] == 1) | (df['OSF'] == 1) |\n",
    "                 (df['RNF'] == 1)) & (df['Machine failure'] == 0)].index\n",
    "df.drop(drop_0_index, inplace = True)"
   ]
  },
  {
   "cell_type": "markdown",
   "id": "b0146609",
   "metadata": {},
   "source": [
    "Now, let us check if we have any anomalies in the dataset."
   ]
  },
  {
   "cell_type": "code",
   "execution_count": 9,
   "id": "9f317ec0",
   "metadata": {},
   "outputs": [
    {
     "data": {
      "text/plain": [
       "1    330\n",
       "Name: Machine failure, dtype: int64"
      ]
     },
     "execution_count": 9,
     "metadata": {},
     "output_type": "execute_result"
    }
   ],
   "source": [
    "df[(df['TWF'] == 1) | (df['HDF'] == 1) | (df['PWF'] == 1) | (df['OSF'] == 1) | (df['RNF'] == 1)]['Machine failure'].value_counts()"
   ]
  },
  {
   "cell_type": "code",
   "execution_count": 10,
   "id": "59659a5e",
   "metadata": {
    "scrolled": true
   },
   "outputs": [
    {
     "data": {
      "text/plain": [
       "0    9643\n",
       "1     330\n",
       "Name: Machine failure, dtype: int64"
      ]
     },
     "execution_count": 10,
     "metadata": {},
     "output_type": "execute_result"
    }
   ],
   "source": [
    "df['Machine failure'].value_counts()"
   ]
  },
  {
   "cell_type": "code",
   "execution_count": 11,
   "id": "58fcfeac",
   "metadata": {},
   "outputs": [
    {
     "name": "stdout",
     "output_type": "stream",
     "text": [
      "<class 'pandas.core.frame.DataFrame'>\n",
      "Int64Index: 9973 entries, 0 to 9999\n",
      "Data columns (total 14 columns):\n",
      " #   Column                   Non-Null Count  Dtype  \n",
      "---  ------                   --------------  -----  \n",
      " 0   UDI                      9973 non-null   int64  \n",
      " 1   Product ID               9973 non-null   object \n",
      " 2   Type                     9973 non-null   object \n",
      " 3   Air temperature [K]      9973 non-null   float64\n",
      " 4   Process temperature [K]  9973 non-null   float64\n",
      " 5   Rotational speed [rpm]   9973 non-null   int64  \n",
      " 6   Torque [Nm]              9973 non-null   float64\n",
      " 7   Tool wear [min]          9973 non-null   int64  \n",
      " 8   Machine failure          9973 non-null   int64  \n",
      " 9   TWF                      9973 non-null   int64  \n",
      " 10  HDF                      9973 non-null   int64  \n",
      " 11  PWF                      9973 non-null   int64  \n",
      " 12  OSF                      9973 non-null   int64  \n",
      " 13  RNF                      9973 non-null   int64  \n",
      "dtypes: float64(3), int64(9), object(2)\n",
      "memory usage: 1.1+ MB\n"
     ]
    }
   ],
   "source": [
    "# Checking for NaN values\n",
    "df.info()"
   ]
  },
  {
   "cell_type": "markdown",
   "id": "e27d656c",
   "metadata": {},
   "source": [
    "###### Observation: There are no NaN values in the dataset"
   ]
  },
  {
   "cell_type": "markdown",
   "id": "fbae426f",
   "metadata": {},
   "source": [
    "Now we can drop the columns `TWF`, `HDF`, `PWF`, `OSF` and `RNF` as the information is already contained in the feature `Machine failure`"
   ]
  },
  {
   "cell_type": "code",
   "execution_count": 12,
   "id": "ac9e6df9",
   "metadata": {},
   "outputs": [
    {
     "data": {
      "text/html": [
       "<div>\n",
       "<style scoped>\n",
       "    .dataframe tbody tr th:only-of-type {\n",
       "        vertical-align: middle;\n",
       "    }\n",
       "\n",
       "    .dataframe tbody tr th {\n",
       "        vertical-align: top;\n",
       "    }\n",
       "\n",
       "    .dataframe thead th {\n",
       "        text-align: right;\n",
       "    }\n",
       "</style>\n",
       "<table border=\"1\" class=\"dataframe\">\n",
       "  <thead>\n",
       "    <tr style=\"text-align: right;\">\n",
       "      <th></th>\n",
       "      <th>UDI</th>\n",
       "      <th>Product ID</th>\n",
       "      <th>Type</th>\n",
       "      <th>Air temperature [K]</th>\n",
       "      <th>Process temperature [K]</th>\n",
       "      <th>Rotational speed [rpm]</th>\n",
       "      <th>Torque [Nm]</th>\n",
       "      <th>Tool wear [min]</th>\n",
       "      <th>Machine failure</th>\n",
       "    </tr>\n",
       "  </thead>\n",
       "  <tbody>\n",
       "    <tr>\n",
       "      <th>0</th>\n",
       "      <td>1</td>\n",
       "      <td>M14860</td>\n",
       "      <td>M</td>\n",
       "      <td>298.1</td>\n",
       "      <td>308.6</td>\n",
       "      <td>1551</td>\n",
       "      <td>42.8</td>\n",
       "      <td>0</td>\n",
       "      <td>0</td>\n",
       "    </tr>\n",
       "    <tr>\n",
       "      <th>1</th>\n",
       "      <td>2</td>\n",
       "      <td>L47181</td>\n",
       "      <td>L</td>\n",
       "      <td>298.2</td>\n",
       "      <td>308.7</td>\n",
       "      <td>1408</td>\n",
       "      <td>46.3</td>\n",
       "      <td>3</td>\n",
       "      <td>0</td>\n",
       "    </tr>\n",
       "  </tbody>\n",
       "</table>\n",
       "</div>"
      ],
      "text/plain": [
       "   UDI Product ID Type  Air temperature [K]  Process temperature [K]  \\\n",
       "0    1     M14860    M                298.1                    308.6   \n",
       "1    2     L47181    L                298.2                    308.7   \n",
       "\n",
       "   Rotational speed [rpm]  Torque [Nm]  Tool wear [min]  Machine failure  \n",
       "0                    1551         42.8                0                0  \n",
       "1                    1408         46.3                3                0  "
      ]
     },
     "execution_count": 12,
     "metadata": {},
     "output_type": "execute_result"
    }
   ],
   "source": [
    "df.drop(['TWF', 'HDF', 'PWF', 'OSF', 'RNF'], axis = 1, inplace = True)\n",
    "df.head(2)"
   ]
  },
  {
   "cell_type": "markdown",
   "id": "fca43f16",
   "metadata": {},
   "source": [
    "Next we can investigate the features `UDI` and `Product ID`"
   ]
  },
  {
   "cell_type": "code",
   "execution_count": 13,
   "id": "69298722",
   "metadata": {},
   "outputs": [
    {
     "name": "stdout",
     "output_type": "stream",
     "text": [
      "The number of unique values of feature UDI: 9973\n",
      "The number of unique values of feature Product ID: 9973\n"
     ]
    }
   ],
   "source": [
    "print(f\"The number of unique values of feature UDI: {len(df['UDI'].value_counts())}\")\n",
    "print(f\"The number of unique values of feature Product ID: {len(df['Product ID'].value_counts())}\")"
   ]
  },
  {
   "cell_type": "markdown",
   "id": "81b1e1c4",
   "metadata": {},
   "source": [
    "As there are all unique values of `UDI` and `Product ID`, we can drop the features."
   ]
  },
  {
   "cell_type": "code",
   "execution_count": 14,
   "id": "06fe370a",
   "metadata": {},
   "outputs": [
    {
     "data": {
      "text/html": [
       "<div>\n",
       "<style scoped>\n",
       "    .dataframe tbody tr th:only-of-type {\n",
       "        vertical-align: middle;\n",
       "    }\n",
       "\n",
       "    .dataframe tbody tr th {\n",
       "        vertical-align: top;\n",
       "    }\n",
       "\n",
       "    .dataframe thead th {\n",
       "        text-align: right;\n",
       "    }\n",
       "</style>\n",
       "<table border=\"1\" class=\"dataframe\">\n",
       "  <thead>\n",
       "    <tr style=\"text-align: right;\">\n",
       "      <th></th>\n",
       "      <th>Type</th>\n",
       "      <th>Air temperature [K]</th>\n",
       "      <th>Process temperature [K]</th>\n",
       "      <th>Rotational speed [rpm]</th>\n",
       "      <th>Torque [Nm]</th>\n",
       "      <th>Tool wear [min]</th>\n",
       "      <th>Machine failure</th>\n",
       "    </tr>\n",
       "  </thead>\n",
       "  <tbody>\n",
       "    <tr>\n",
       "      <th>0</th>\n",
       "      <td>M</td>\n",
       "      <td>298.1</td>\n",
       "      <td>308.6</td>\n",
       "      <td>1551</td>\n",
       "      <td>42.8</td>\n",
       "      <td>0</td>\n",
       "      <td>0</td>\n",
       "    </tr>\n",
       "    <tr>\n",
       "      <th>1</th>\n",
       "      <td>L</td>\n",
       "      <td>298.2</td>\n",
       "      <td>308.7</td>\n",
       "      <td>1408</td>\n",
       "      <td>46.3</td>\n",
       "      <td>3</td>\n",
       "      <td>0</td>\n",
       "    </tr>\n",
       "  </tbody>\n",
       "</table>\n",
       "</div>"
      ],
      "text/plain": [
       "  Type  Air temperature [K]  Process temperature [K]  Rotational speed [rpm]  \\\n",
       "0    M                298.1                    308.6                    1551   \n",
       "1    L                298.2                    308.7                    1408   \n",
       "\n",
       "   Torque [Nm]  Tool wear [min]  Machine failure  \n",
       "0         42.8                0                0  \n",
       "1         46.3                3                0  "
      ]
     },
     "execution_count": 14,
     "metadata": {},
     "output_type": "execute_result"
    }
   ],
   "source": [
    "df.drop(['UDI', 'Product ID'], axis = 1, inplace = True)\n",
    "df.head(2)"
   ]
  },
  {
   "cell_type": "markdown",
   "id": "b7c834fa",
   "metadata": {},
   "source": [
    "#### Profiling the Dataset"
   ]
  },
  {
   "cell_type": "code",
   "execution_count": 13,
   "id": "1e10b1b0",
   "metadata": {},
   "outputs": [
    {
     "data": {
      "application/vnd.jupyter.widget-view+json": {
       "model_id": "7456a376c2844ed1b7f50a2e9783552c",
       "version_major": 2,
       "version_minor": 0
      },
      "text/plain": [
       "Summarize dataset:   0%|          | 0/5 [00:00<?, ?it/s]"
      ]
     },
     "metadata": {},
     "output_type": "display_data"
    },
    {
     "data": {
      "application/vnd.jupyter.widget-view+json": {
       "model_id": "71892960e8354c41929d3cd95ea94dda",
       "version_major": 2,
       "version_minor": 0
      },
      "text/plain": [
       "Generate report structure:   0%|          | 0/1 [00:00<?, ?it/s]"
      ]
     },
     "metadata": {},
     "output_type": "display_data"
    },
    {
     "data": {
      "application/vnd.jupyter.widget-view+json": {
       "model_id": "",
       "version_major": 2,
       "version_minor": 0
      },
      "text/plain": [
       "Render widgets:   0%|          | 0/1 [00:00<?, ?it/s]"
      ]
     },
     "metadata": {},
     "output_type": "display_data"
    },
    {
     "data": {
      "application/vnd.jupyter.widget-view+json": {
       "model_id": "285749589539429983681cb31a16f470",
       "version_major": 2,
       "version_minor": 0
      },
      "text/plain": [
       "VBox(children=(Tab(children=(Tab(children=(GridBox(children=(VBox(children=(GridspecLayout(children=(HTML(valu…"
      ]
     },
     "metadata": {},
     "output_type": "display_data"
    }
   ],
   "source": [
    "pf = ProfileReport(df)\n",
    "pf.to_widgets()"
   ]
  },
  {
   "cell_type": "markdown",
   "id": "ef5792fa",
   "metadata": {},
   "source": [
    "The report has been created but we should always save the report so that it can be shared with prospective stakeholders and other counterparts for an overwiew of data."
   ]
  },
  {
   "cell_type": "markdown",
   "id": "9e681e19",
   "metadata": {},
   "source": [
    "###### Observations: \n",
    "\n",
    "> 1. `Air Temperature` has high collinearity (86.4%) with `Process Temperature`\n",
    "> 2. `Rotational Speed` has high inverse collinearity (91.6%) with `Torque`\n",
    "> 3. Feature - `Machine failure` is imbalanced. But that is expected as failures should be low."
   ]
  },
  {
   "cell_type": "code",
   "execution_count": 14,
   "id": "30b41f18",
   "metadata": {},
   "outputs": [
    {
     "data": {
      "application/vnd.jupyter.widget-view+json": {
       "model_id": "26ecc6b536b346628c3822151b7dbae8",
       "version_major": 2,
       "version_minor": 0
      },
      "text/plain": [
       "Render HTML:   0%|          | 0/1 [00:00<?, ?it/s]"
      ]
     },
     "metadata": {},
     "output_type": "display_data"
    },
    {
     "data": {
      "application/vnd.jupyter.widget-view+json": {
       "model_id": "81429e7194374b4fbc8e9ec4d9ad52d6",
       "version_major": 2,
       "version_minor": 0
      },
      "text/plain": [
       "Export report to file:   0%|          | 0/1 [00:00<?, ?it/s]"
      ]
     },
     "metadata": {},
     "output_type": "display_data"
    }
   ],
   "source": [
    "# Saving the report to AI4I_2020.html\n",
    "\n",
    "pf.to_file('AI4I_2020.html')"
   ]
  },
  {
   "cell_type": "markdown",
   "id": "634130eb",
   "metadata": {},
   "source": [
    "We see that `Rotational Speed` has high negative collinearity with `Torque`.\n",
    "We will make a copy of the dataframe and make a model by dropping one of the features., eg. `Torque`"
   ]
  },
  {
   "cell_type": "code",
   "execution_count": 15,
   "id": "bc2f49ca",
   "metadata": {
    "scrolled": true
   },
   "outputs": [
    {
     "data": {
      "text/plain": [
       "Index(['Type', 'Air temperature [K]', 'Process temperature [K]',\n",
       "       'Rotational speed [rpm]', 'Torque [Nm]', 'Tool wear [min]',\n",
       "       'Machine failure'],\n",
       "      dtype='object')"
      ]
     },
     "execution_count": 15,
     "metadata": {},
     "output_type": "execute_result"
    }
   ],
   "source": [
    "df.columns"
   ]
  },
  {
   "cell_type": "code",
   "execution_count": 16,
   "id": "9b125cf4",
   "metadata": {},
   "outputs": [],
   "source": [
    "df_lessTorque = df.drop('Torque [Nm]', axis = 1)"
   ]
  },
  {
   "cell_type": "markdown",
   "id": "92cc8764",
   "metadata": {},
   "source": [
    "#### Create Models"
   ]
  },
  {
   "cell_type": "markdown",
   "id": "4094c566",
   "metadata": {},
   "source": [
    "First we need to encode the feature `Type` as Linear Regression model will not be able to take it into account."
   ]
  },
  {
   "cell_type": "code",
   "execution_count": 17,
   "id": "4fe8c256",
   "metadata": {},
   "outputs": [],
   "source": [
    "df = pd.get_dummies(df, columns = ['Type'])"
   ]
  },
  {
   "cell_type": "code",
   "execution_count": 18,
   "id": "c5a5990a",
   "metadata": {},
   "outputs": [
    {
     "data": {
      "text/plain": [
       "Index(['Air temperature [K]', 'Process temperature [K]',\n",
       "       'Rotational speed [rpm]', 'Torque [Nm]', 'Tool wear [min]',\n",
       "       'Machine failure', 'Type_H', 'Type_L', 'Type_M'],\n",
       "      dtype='object')"
      ]
     },
     "execution_count": 18,
     "metadata": {},
     "output_type": "execute_result"
    }
   ],
   "source": [
    "df.columns"
   ]
  },
  {
   "cell_type": "code",
   "execution_count": 19,
   "id": "ed07c88f",
   "metadata": {},
   "outputs": [],
   "source": [
    "X = df[['Process temperature [K]', 'Rotational speed [rpm]', \n",
    "        'Torque [Nm]', 'Tool wear [min]', 'Machine failure', \n",
    "        'Type_H', 'Type_L', 'Type_M']]\n",
    "y = df['Air temperature [K]']"
   ]
  },
  {
   "cell_type": "code",
   "execution_count": 20,
   "id": "5335f1b7",
   "metadata": {},
   "outputs": [
    {
     "data": {
      "text/html": [
       "<div>\n",
       "<style scoped>\n",
       "    .dataframe tbody tr th:only-of-type {\n",
       "        vertical-align: middle;\n",
       "    }\n",
       "\n",
       "    .dataframe tbody tr th {\n",
       "        vertical-align: top;\n",
       "    }\n",
       "\n",
       "    .dataframe thead th {\n",
       "        text-align: right;\n",
       "    }\n",
       "</style>\n",
       "<table border=\"1\" class=\"dataframe\">\n",
       "  <thead>\n",
       "    <tr style=\"text-align: right;\">\n",
       "      <th></th>\n",
       "      <th>Process temperature [K]</th>\n",
       "      <th>Rotational speed [rpm]</th>\n",
       "      <th>Torque [Nm]</th>\n",
       "      <th>Tool wear [min]</th>\n",
       "      <th>Machine failure</th>\n",
       "      <th>Type_H</th>\n",
       "      <th>Type_L</th>\n",
       "      <th>Type_M</th>\n",
       "    </tr>\n",
       "  </thead>\n",
       "  <tbody>\n",
       "    <tr>\n",
       "      <th>0</th>\n",
       "      <td>308.6</td>\n",
       "      <td>1551</td>\n",
       "      <td>42.8</td>\n",
       "      <td>0</td>\n",
       "      <td>0</td>\n",
       "      <td>0</td>\n",
       "      <td>0</td>\n",
       "      <td>1</td>\n",
       "    </tr>\n",
       "    <tr>\n",
       "      <th>1</th>\n",
       "      <td>308.7</td>\n",
       "      <td>1408</td>\n",
       "      <td>46.3</td>\n",
       "      <td>3</td>\n",
       "      <td>0</td>\n",
       "      <td>0</td>\n",
       "      <td>1</td>\n",
       "      <td>0</td>\n",
       "    </tr>\n",
       "  </tbody>\n",
       "</table>\n",
       "</div>"
      ],
      "text/plain": [
       "   Process temperature [K]  Rotational speed [rpm]  Torque [Nm]  \\\n",
       "0                    308.6                    1551         42.8   \n",
       "1                    308.7                    1408         46.3   \n",
       "\n",
       "   Tool wear [min]  Machine failure  Type_H  Type_L  Type_M  \n",
       "0                0                0       0       0       1  \n",
       "1                3                0       0       1       0  "
      ]
     },
     "execution_count": 20,
     "metadata": {},
     "output_type": "execute_result"
    }
   ],
   "source": [
    "X.head(2)"
   ]
  },
  {
   "cell_type": "markdown",
   "id": "1aac6be7",
   "metadata": {},
   "source": [
    "Now, we need to repeat the same process for `df_lessTorque`"
   ]
  },
  {
   "cell_type": "code",
   "execution_count": 21,
   "id": "2bd499d9",
   "metadata": {},
   "outputs": [
    {
     "data": {
      "text/html": [
       "<div>\n",
       "<style scoped>\n",
       "    .dataframe tbody tr th:only-of-type {\n",
       "        vertical-align: middle;\n",
       "    }\n",
       "\n",
       "    .dataframe tbody tr th {\n",
       "        vertical-align: top;\n",
       "    }\n",
       "\n",
       "    .dataframe thead th {\n",
       "        text-align: right;\n",
       "    }\n",
       "</style>\n",
       "<table border=\"1\" class=\"dataframe\">\n",
       "  <thead>\n",
       "    <tr style=\"text-align: right;\">\n",
       "      <th></th>\n",
       "      <th>Air temperature [K]</th>\n",
       "      <th>Process temperature [K]</th>\n",
       "      <th>Rotational speed [rpm]</th>\n",
       "      <th>Tool wear [min]</th>\n",
       "      <th>Machine failure</th>\n",
       "      <th>Type_H</th>\n",
       "      <th>Type_L</th>\n",
       "      <th>Type_M</th>\n",
       "    </tr>\n",
       "  </thead>\n",
       "  <tbody>\n",
       "    <tr>\n",
       "      <th>0</th>\n",
       "      <td>298.1</td>\n",
       "      <td>308.6</td>\n",
       "      <td>1551</td>\n",
       "      <td>0</td>\n",
       "      <td>0</td>\n",
       "      <td>0</td>\n",
       "      <td>0</td>\n",
       "      <td>1</td>\n",
       "    </tr>\n",
       "    <tr>\n",
       "      <th>1</th>\n",
       "      <td>298.2</td>\n",
       "      <td>308.7</td>\n",
       "      <td>1408</td>\n",
       "      <td>3</td>\n",
       "      <td>0</td>\n",
       "      <td>0</td>\n",
       "      <td>1</td>\n",
       "      <td>0</td>\n",
       "    </tr>\n",
       "  </tbody>\n",
       "</table>\n",
       "</div>"
      ],
      "text/plain": [
       "   Air temperature [K]  Process temperature [K]  Rotational speed [rpm]  \\\n",
       "0                298.1                    308.6                    1551   \n",
       "1                298.2                    308.7                    1408   \n",
       "\n",
       "   Tool wear [min]  Machine failure  Type_H  Type_L  Type_M  \n",
       "0                0                0       0       0       1  \n",
       "1                3                0       0       1       0  "
      ]
     },
     "execution_count": 21,
     "metadata": {},
     "output_type": "execute_result"
    }
   ],
   "source": [
    "df_lessTorque = pd.get_dummies(df_lessTorque, columns = ['Type'])\n",
    "df_lessTorque.head(2)"
   ]
  },
  {
   "cell_type": "code",
   "execution_count": 22,
   "id": "daebc0f2",
   "metadata": {},
   "outputs": [],
   "source": [
    "X_ = df[['Process temperature [K]', 'Rotational speed [rpm]', \n",
    "        'Tool wear [min]', 'Machine failure', 'Type_H', 'Type_L', 'Type_M']]\n",
    "y_ = df['Air temperature [K]']"
   ]
  },
  {
   "cell_type": "markdown",
   "id": "fe374f55",
   "metadata": {},
   "source": [
    "We are ready to create the models now."
   ]
  },
  {
   "cell_type": "code",
   "execution_count": 23,
   "id": "f8a15c7d",
   "metadata": {},
   "outputs": [
    {
     "data": {
      "text/plain": [
       "LinearRegression()"
      ]
     },
     "execution_count": 23,
     "metadata": {},
     "output_type": "execute_result"
    }
   ],
   "source": [
    "lr = LinearRegression()\n",
    "lr_ = LinearRegression()\n",
    "lr.fit(X, y) # Fitting the df dataframe\n",
    "lr_.fit(X_, y_) # Fitting the df_lessTorque dataframe"
   ]
  },
  {
   "cell_type": "code",
   "execution_count": 24,
   "id": "7295daae",
   "metadata": {},
   "outputs": [
    {
     "name": "stdout",
     "output_type": "stream",
     "text": [
      "The intercept of 'lr' is -64.95673802010947 and coefficients are [ 1.17831957e+00 -1.12233035e-04 -4.17381855e-03 -1.18969509e-04\n",
      "  6.20944882e-01 -2.79314055e-02  8.23233202e-03  1.96990735e-02]\n",
      "------------------\n",
      "The intercept of 'lr_' is -65.46107390902318 and coefficients are [ 1.17840869e+00  8.90432486e-05 -1.06338175e-04  5.84349712e-01\n",
      " -2.77128190e-02  8.20579578e-03  1.95070232e-02]\n"
     ]
    }
   ],
   "source": [
    "# Let's print the intercepts and coefficients of the models\n",
    "\n",
    "print(f\"The intercept of 'lr' is {lr.intercept_} and coefficients are {lr.coef_}\")\n",
    "print(\"------------------\")\n",
    "print(f\"The intercept of 'lr_' is {lr_.intercept_} and coefficients are {lr_.coef_}\")"
   ]
  },
  {
   "cell_type": "markdown",
   "id": "51750950",
   "metadata": {},
   "source": [
    "#### Accuracy of the model created"
   ]
  },
  {
   "cell_type": "code",
   "execution_count": 25,
   "id": "00517bbc",
   "metadata": {},
   "outputs": [
    {
     "name": "stdout",
     "output_type": "stream",
     "text": [
      "The accuracy of model 'lr' is 0.7703613181448946\n",
      "The accuracy of model 'lr_' is 0.7702705883009462\n"
     ]
    }
   ],
   "source": [
    "print(f\"The accuracy of model 'lr' is {lr.score(X, y)}\")\n",
    "print(f\"The accuracy of model 'lr_' is {lr_.score(X_, y_)}\")"
   ]
  },
  {
   "cell_type": "markdown",
   "id": "4791353e",
   "metadata": {},
   "source": [
    "#### Saving the Models\n",
    "\n",
    "Here we see that both the models have similar accuracy. Infact, the model with all the features has a higher accuracy. Hence, we keep the  model without Torque as we already have one feature which is highly correlated to Torque. Hence we use `lr_`."
   ]
  },
  {
   "cell_type": "code",
   "execution_count": 26,
   "id": "bbc6993d",
   "metadata": {},
   "outputs": [],
   "source": [
    "file1 = 'linear.sav'\n",
    "pickle.dump(lr_, open(file1, 'wb'))"
   ]
  },
  {
   "cell_type": "markdown",
   "id": "6b0dc839",
   "metadata": {},
   "source": [
    "#### Predict on dataset"
   ]
  },
  {
   "cell_type": "code",
   "execution_count": 27,
   "id": "8d822c30",
   "metadata": {},
   "outputs": [],
   "source": [
    "predict_df = pd.read_csv('ai4i2020_test.csv')\n",
    "predict_df.drop('Torque [Nm]', axis = 1, inplace = True)"
   ]
  },
  {
   "cell_type": "code",
   "execution_count": 28,
   "id": "34db177c",
   "metadata": {},
   "outputs": [
    {
     "data": {
      "text/plain": [
       "array([298.23553136, 299.04911711, 299.48205873, 299.24656679,\n",
       "       298.92075911, 299.25044753, 298.46037696, 299.76517299,\n",
       "       298.57230381])"
      ]
     },
     "execution_count": 28,
     "metadata": {},
     "output_type": "execute_result"
    }
   ],
   "source": [
    "lr_.predict(predict_df)"
   ]
  },
  {
   "cell_type": "markdown",
   "id": "0c88735b",
   "metadata": {},
   "source": [
    "#### Feature Selection\n",
    "\n",
    "Let's see the performance of the model using the `Ordinary Least Squared` method from `Statsmodels` module "
   ]
  },
  {
   "cell_type": "code",
   "execution_count": 29,
   "id": "5bbd7aa7",
   "metadata": {},
   "outputs": [],
   "source": [
    "import statsmodels\n",
    "import statsmodels.formula.api as smf\n",
    "\n",
    "df_lessTorque.columns = df_lessTorque.columns.str.replace(\" \",\"_\")\n",
    "\n",
    "col = {'Air_temperature_[K]': 'Air_Temp',\n",
    "           'Process_temperature_[K]': 'Process_Temp',\n",
    "           'Rotational_speed_[rpm]': 'Rotational_speed',\n",
    "           'Tool_wear_[min]': 'Tool_wear',\n",
    "           'Machine_failure': 'Failure',\n",
    "           'Type_H': 'Type_H',\n",
    "           'Type_L': 'Type_L',\n",
    "           'Type_M': 'Type_M'}\n",
    "\n",
    "df_lessTorque = df_lessTorque.rename(columns=col)"
   ]
  },
  {
   "cell_type": "code",
   "execution_count": 32,
   "id": "20e8de1c",
   "metadata": {},
   "outputs": [
    {
     "data": {
      "text/html": [
       "<table class=\"simpletable\">\n",
       "<caption>OLS Regression Results</caption>\n",
       "<tr>\n",
       "  <th>Dep. Variable:</th>        <td>Air_Temp</td>     <th>  R-squared:         </th> <td>   0.770</td> \n",
       "</tr>\n",
       "<tr>\n",
       "  <th>Model:</th>                   <td>OLS</td>       <th>  Adj. R-squared:    </th> <td>   0.770</td> \n",
       "</tr>\n",
       "<tr>\n",
       "  <th>Method:</th>             <td>Least Squares</td>  <th>  F-statistic:       </th> <td>   5569.</td> \n",
       "</tr>\n",
       "<tr>\n",
       "  <th>Date:</th>             <td>Sun, 12 Feb 2023</td> <th>  Prob (F-statistic):</th>  <td>  0.00</td>  \n",
       "</tr>\n",
       "<tr>\n",
       "  <th>Time:</th>                 <td>20:24:29</td>     <th>  Log-Likelihood:    </th> <td> -13732.</td> \n",
       "</tr>\n",
       "<tr>\n",
       "  <th>No. Observations:</th>      <td>  9973</td>      <th>  AIC:               </th> <td>2.748e+04</td>\n",
       "</tr>\n",
       "<tr>\n",
       "  <th>Df Residuals:</th>          <td>  9966</td>      <th>  BIC:               </th> <td>2.753e+04</td>\n",
       "</tr>\n",
       "<tr>\n",
       "  <th>Df Model:</th>              <td>     6</td>      <th>                     </th>     <td> </td>    \n",
       "</tr>\n",
       "<tr>\n",
       "  <th>Covariance Type:</th>      <td>nonrobust</td>    <th>                     </th>     <td> </td>    \n",
       "</tr>\n",
       "</table>\n",
       "<table class=\"simpletable\">\n",
       "<tr>\n",
       "          <td></td>            <th>coef</th>     <th>std err</th>      <th>t</th>      <th>P>|t|</th>  <th>[0.025</th>    <th>0.975]</th>  \n",
       "</tr>\n",
       "<tr>\n",
       "  <th>Intercept</th>        <td>  -49.0958</td> <td>    1.507</td> <td>  -32.588</td> <td> 0.000</td> <td>  -52.049</td> <td>  -46.143</td>\n",
       "</tr>\n",
       "<tr>\n",
       "  <th>Process_Temp</th>     <td>    1.1784</td> <td>    0.006</td> <td>  181.831</td> <td> 0.000</td> <td>    1.166</td> <td>    1.191</td>\n",
       "</tr>\n",
       "<tr>\n",
       "  <th>Rotational_speed</th> <td> 8.904e-05</td> <td> 5.36e-05</td> <td>    1.661</td> <td> 0.097</td> <td> -1.6e-05</td> <td>    0.000</td>\n",
       "</tr>\n",
       "<tr>\n",
       "  <th>Tool_wear</th>        <td>   -0.0001</td> <td>    0.000</td> <td>   -0.701</td> <td> 0.484</td> <td>   -0.000</td> <td>    0.000</td>\n",
       "</tr>\n",
       "<tr>\n",
       "  <th>Failure</th>          <td>    0.5843</td> <td>    0.054</td> <td>   10.795</td> <td> 0.000</td> <td>    0.478</td> <td>    0.690</td>\n",
       "</tr>\n",
       "<tr>\n",
       "  <th>Type_H</th>           <td>  -16.3930</td> <td>    0.502</td> <td>  -32.633</td> <td> 0.000</td> <td>  -17.378</td> <td>  -15.408</td>\n",
       "</tr>\n",
       "<tr>\n",
       "  <th>Type_L</th>           <td>  -16.3571</td> <td>    0.502</td> <td>  -32.552</td> <td> 0.000</td> <td>  -17.342</td> <td>  -15.372</td>\n",
       "</tr>\n",
       "<tr>\n",
       "  <th>Type_M</th>           <td>  -16.3458</td> <td>    0.503</td> <td>  -32.520</td> <td> 0.000</td> <td>  -17.331</td> <td>  -15.360</td>\n",
       "</tr>\n",
       "</table>\n",
       "<table class=\"simpletable\">\n",
       "<tr>\n",
       "  <th>Omnibus:</th>       <td>683.837</td> <th>  Durbin-Watson:     </th> <td>   0.030</td>\n",
       "</tr>\n",
       "<tr>\n",
       "  <th>Prob(Omnibus):</th> <td> 0.000</td>  <th>  Jarque-Bera (JB):  </th> <td> 252.586</td>\n",
       "</tr>\n",
       "<tr>\n",
       "  <th>Skew:</th>          <td>-0.107</td>  <th>  Prob(JB):          </th> <td>1.42e-55</td>\n",
       "</tr>\n",
       "<tr>\n",
       "  <th>Kurtosis:</th>      <td> 2.250</td>  <th>  Cond. No.          </th> <td>1.55e+19</td>\n",
       "</tr>\n",
       "</table><br/><br/>Notes:<br/>[1] Standard Errors assume that the covariance matrix of the errors is correctly specified.<br/>[2] The smallest eigenvalue is 1.04e-28. This might indicate that there are<br/>strong multicollinearity problems or that the design matrix is singular."
      ],
      "text/plain": [
       "<class 'statsmodels.iolib.summary.Summary'>\n",
       "\"\"\"\n",
       "                            OLS Regression Results                            \n",
       "==============================================================================\n",
       "Dep. Variable:               Air_Temp   R-squared:                       0.770\n",
       "Model:                            OLS   Adj. R-squared:                  0.770\n",
       "Method:                 Least Squares   F-statistic:                     5569.\n",
       "Date:                Sun, 12 Feb 2023   Prob (F-statistic):               0.00\n",
       "Time:                        20:24:29   Log-Likelihood:                -13732.\n",
       "No. Observations:                9973   AIC:                         2.748e+04\n",
       "Df Residuals:                    9966   BIC:                         2.753e+04\n",
       "Df Model:                           6                                         \n",
       "Covariance Type:            nonrobust                                         \n",
       "====================================================================================\n",
       "                       coef    std err          t      P>|t|      [0.025      0.975]\n",
       "------------------------------------------------------------------------------------\n",
       "Intercept          -49.0958      1.507    -32.588      0.000     -52.049     -46.143\n",
       "Process_Temp         1.1784      0.006    181.831      0.000       1.166       1.191\n",
       "Rotational_speed  8.904e-05   5.36e-05      1.661      0.097    -1.6e-05       0.000\n",
       "Tool_wear           -0.0001      0.000     -0.701      0.484      -0.000       0.000\n",
       "Failure              0.5843      0.054     10.795      0.000       0.478       0.690\n",
       "Type_H             -16.3930      0.502    -32.633      0.000     -17.378     -15.408\n",
       "Type_L             -16.3571      0.502    -32.552      0.000     -17.342     -15.372\n",
       "Type_M             -16.3458      0.503    -32.520      0.000     -17.331     -15.360\n",
       "==============================================================================\n",
       "Omnibus:                      683.837   Durbin-Watson:                   0.030\n",
       "Prob(Omnibus):                  0.000   Jarque-Bera (JB):              252.586\n",
       "Skew:                          -0.107   Prob(JB):                     1.42e-55\n",
       "Kurtosis:                       2.250   Cond. No.                     1.55e+19\n",
       "==============================================================================\n",
       "\n",
       "Notes:\n",
       "[1] Standard Errors assume that the covariance matrix of the errors is correctly specified.\n",
       "[2] The smallest eigenvalue is 1.04e-28. This might indicate that there are\n",
       "strong multicollinearity problems or that the design matrix is singular.\n",
       "\"\"\""
      ]
     },
     "execution_count": 32,
     "metadata": {},
     "output_type": "execute_result"
    }
   ],
   "source": [
    "lm = smf.ols(formula = 'Air_Temp~Process_Temp+Rotational_speed+Tool_wear+Failure+Type_H+Type_L+Type_M', data = df_lessTorque).fit()\n",
    "lm.summary()"
   ]
  },
  {
   "cell_type": "markdown",
   "id": "aa2972fc",
   "metadata": {},
   "source": [
    "#### Conclusion\n",
    "\n",
    "We can see that the model gives us prediction on the air temperature of the datapoints loaded. However, we have high multicollinearity problems here and the dataset is not suited for a linear regression model."
   ]
  }
 ],
 "metadata": {
  "kernelspec": {
   "display_name": "Python 3 (ipykernel)",
   "language": "python",
   "name": "python3"
  },
  "language_info": {
   "codemirror_mode": {
    "name": "ipython",
    "version": 3
   },
   "file_extension": ".py",
   "mimetype": "text/x-python",
   "name": "python",
   "nbconvert_exporter": "python",
   "pygments_lexer": "ipython3",
   "version": "3.9.13"
  }
 },
 "nbformat": 4,
 "nbformat_minor": 5
}
